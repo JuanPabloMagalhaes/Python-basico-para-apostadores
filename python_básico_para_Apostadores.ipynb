{
  "nbformat": 4,
  "nbformat_minor": 0,
  "metadata": {
    "colab": {
      "provenance": [],
      "authorship_tag": "ABX9TyMlAj4QNoVe4XiPwFev+ESh",
      "include_colab_link": true
    },
    "kernelspec": {
      "name": "python3",
      "display_name": "Python 3"
    },
    "language_info": {
      "name": "python"
    }
  },
  "cells": [
    {
      "cell_type": "markdown",
      "metadata": {
        "id": "view-in-github",
        "colab_type": "text"
      },
      "source": [
        "<a href=\"https://colab.research.google.com/github/JuanPabloMagalhaes/Python-basico-para-apostadores/blob/main/python_b%C3%A1sico_para_Apostadores.ipynb\" target=\"_parent\"><img src=\"https://colab.research.google.com/assets/colab-badge.svg\" alt=\"Open In Colab\"/></a>"
      ]
    },
    {
      "cell_type": "markdown",
      "source": [
        "# Criar variáveis "
      ],
      "metadata": {
        "id": "fZC3ltrYpO2i"
      }
    },
    {
      "cell_type": "code",
      "source": [
        "Time = \"Flamengo\"\n",
        "Estádio = \"Maracanâ\"\n",
        "Cidade = \"Rio de Janeiro\"\n",
        "País = \"Brasil\"\n",
        "Rodada = 16"
      ],
      "metadata": {
        "id": "9voncNqIpWYz"
      },
      "execution_count": null,
      "outputs": []
    },
    {
      "cell_type": "markdown",
      "source": [
        "# Utilizando o comando Print\n"
      ],
      "metadata": {
        "id": "HoYh2zy_pxg9"
      }
    },
    {
      "cell_type": "code",
      "source": [
        "print(Time)"
      ],
      "metadata": {
        "colab": {
          "base_uri": "https://localhost:8080/"
        },
        "id": "3N5VddtNp4fv",
        "outputId": "6328dbcd-0d5b-466c-8129-5deaa6f8d3e7"
      },
      "execution_count": null,
      "outputs": [
        {
          "output_type": "stream",
          "name": "stdout",
          "text": [
            "Flamengo\n"
          ]
        }
      ]
    },
    {
      "cell_type": "code",
      "source": [
        "print(Time, Estádio, Cidade, País)"
      ],
      "metadata": {
        "colab": {
          "base_uri": "https://localhost:8080/"
        },
        "id": "i1wwX5Z-qd8-",
        "outputId": "e742dd68-8d15-45e6-b0fa-6a5c721a8d65"
      },
      "execution_count": null,
      "outputs": [
        {
          "output_type": "stream",
          "name": "stdout",
          "text": [
            "Flamengo Maracanâ Rio de Janeiro Brasil\n"
          ]
        }
      ]
    },
    {
      "cell_type": "code",
      "source": [
        "print(\"O \" + Time + \" Vai jogar amanhã no estádio do \" + Estádio + \" Pelo campeonato do \" + País)"
      ],
      "metadata": {
        "colab": {
          "base_uri": "https://localhost:8080/"
        },
        "id": "IRzTM0BVqwhl",
        "outputId": "f679fbba-d591-4bdc-fb98-7ac6fec0722e"
      },
      "execution_count": null,
      "outputs": [
        {
          "output_type": "stream",
          "name": "stdout",
          "text": [
            "O Flamengo Vai jogar amanhã no estádio do Maracanâ Pelo campeonato do Brasil\n"
          ]
        }
      ]
    },
    {
      "cell_type": "markdown",
      "source": [
        "# Tipos primitivos\n",
        "\n"
      ],
      "metadata": {
        "id": "G_dN7cFcr-Zx"
      }
    },
    {
      "cell_type": "markdown",
      "source": [
        "Inteiros - int\n"
      ],
      "metadata": {
        "id": "F0_u62iVsK1d"
      }
    },
    {
      "cell_type": "code",
      "source": [
        "num_1 = 7\n",
        "num_2 = 3"
      ],
      "metadata": {
        "id": "idW_U5vNsPSq"
      },
      "execution_count": null,
      "outputs": []
    },
    {
      "cell_type": "code",
      "source": [
        "soma = num_1 + num_2"
      ],
      "metadata": {
        "id": "J0Z2RNmdtnn_"
      },
      "execution_count": null,
      "outputs": []
    },
    {
      "cell_type": "code",
      "source": [
        "print(soma)"
      ],
      "metadata": {
        "colab": {
          "base_uri": "https://localhost:8080/"
        },
        "id": "Af37ILpGtnyQ",
        "outputId": "55d33d69-92f2-4275-ff64-897f675f2458"
      },
      "execution_count": null,
      "outputs": [
        {
          "output_type": "stream",
          "name": "stdout",
          "text": [
            "10\n"
          ]
        }
      ]
    },
    {
      "cell_type": "code",
      "source": [
        "type(soma)"
      ],
      "metadata": {
        "colab": {
          "base_uri": "https://localhost:8080/"
        },
        "id": "506plt8tuIKr",
        "outputId": "3777332b-ddb5-45eb-c00b-b543f5509916"
      },
      "execution_count": null,
      "outputs": [
        {
          "output_type": "execute_result",
          "data": {
            "text/plain": [
              "int"
            ]
          },
          "metadata": {},
          "execution_count": 16
        }
      ]
    },
    {
      "cell_type": "markdown",
      "source": [
        "Pontos flutuantes - float\n"
      ],
      "metadata": {
        "id": "ej1SkjvDuZz4"
      }
    },
    {
      "cell_type": "code",
      "source": [
        "num_3 = 0.4\n",
        "num_4 = 0.5"
      ],
      "metadata": {
        "id": "2qNThtnquiCK"
      },
      "execution_count": null,
      "outputs": []
    },
    {
      "cell_type": "code",
      "source": [
        "soma2 = num_3 + num_4"
      ],
      "metadata": {
        "id": "72bfwwsVu5hK"
      },
      "execution_count": null,
      "outputs": []
    },
    {
      "cell_type": "code",
      "source": [
        "print(soma2)"
      ],
      "metadata": {
        "colab": {
          "base_uri": "https://localhost:8080/"
        },
        "id": "mJNHqhMWvHF2",
        "outputId": "df5f68da-6b4b-4847-bebf-d0421f853b7e"
      },
      "execution_count": null,
      "outputs": [
        {
          "output_type": "stream",
          "name": "stdout",
          "text": [
            "0.9\n"
          ]
        }
      ]
    },
    {
      "cell_type": "code",
      "source": [
        "type(soma2)"
      ],
      "metadata": {
        "colab": {
          "base_uri": "https://localhost:8080/"
        },
        "id": "SgMk4iSMvMFh",
        "outputId": "c568f243-58a8-48cf-8024-75f723599374"
      },
      "execution_count": null,
      "outputs": [
        {
          "output_type": "execute_result",
          "data": {
            "text/plain": [
              "float"
            ]
          },
          "metadata": {},
          "execution_count": 20
        }
      ]
    },
    {
      "cell_type": "markdown",
      "source": [
        "Função de arredondamento - Round"
      ],
      "metadata": {
        "id": "YUkf01OgvQ5L"
      }
    },
    {
      "cell_type": "code",
      "source": [
        "prob = 72\n",
        "odd = 100 / prob\n",
        "round(odd, 2)"
      ],
      "metadata": {
        "colab": {
          "base_uri": "https://localhost:8080/"
        },
        "id": "Ilz2rXjfvW5e",
        "outputId": "19c97f05-26c6-471f-f0b9-e790c56855de"
      },
      "execution_count": null,
      "outputs": [
        {
          "output_type": "execute_result",
          "data": {
            "text/plain": [
              "1.39"
            ]
          },
          "metadata": {},
          "execution_count": 21
        }
      ]
    },
    {
      "cell_type": "code",
      "source": [
        "print(odd)"
      ],
      "metadata": {
        "colab": {
          "base_uri": "https://localhost:8080/"
        },
        "id": "ZS98pwY3vftU",
        "outputId": "a0246711-cede-4b4b-b63c-8083abd1f7f9"
      },
      "execution_count": null,
      "outputs": [
        {
          "output_type": "stream",
          "name": "stdout",
          "text": [
            "1.3888888888888888\n"
          ]
        }
      ]
    },
    {
      "cell_type": "code",
      "source": [
        "odd = round(100 / prob, 2)"
      ],
      "metadata": {
        "id": "kKVhUNFrwgUs"
      },
      "execution_count": null,
      "outputs": []
    },
    {
      "cell_type": "code",
      "source": [
        "print(odd)"
      ],
      "metadata": {
        "colab": {
          "base_uri": "https://localhost:8080/"
        },
        "id": "RNC5IFUvwpRw",
        "outputId": "6ac88588-f801-45d2-dcce-44416693fa4f"
      },
      "execution_count": null,
      "outputs": [
        {
          "output_type": "stream",
          "name": "stdout",
          "text": [
            "1.39\n"
          ]
        }
      ]
    },
    {
      "cell_type": "markdown",
      "source": [
        "String - str"
      ],
      "metadata": {
        "id": "JnH7KZ0Cw3fo"
      }
    },
    {
      "cell_type": "code",
      "source": [
        "Palpite = \"O flamengo vai ser campeão da libertadores\""
      ],
      "metadata": {
        "id": "HCxYYYluw8Jh"
      },
      "execution_count": null,
      "outputs": []
    },
    {
      "cell_type": "code",
      "source": [
        "print(Palpite)"
      ],
      "metadata": {
        "colab": {
          "base_uri": "https://localhost:8080/"
        },
        "id": "0W1tOgHqxEjq",
        "outputId": "028430f7-1ec8-4d36-8fd9-de83222d8579"
      },
      "execution_count": null,
      "outputs": [
        {
          "output_type": "stream",
          "name": "stdout",
          "text": [
            "O flamengo vai ser campeão da libertadores\n"
          ]
        }
      ]
    },
    {
      "cell_type": "code",
      "source": [
        "type(Palpite)"
      ],
      "metadata": {
        "colab": {
          "base_uri": "https://localhost:8080/"
        },
        "id": "53B4_6fvxIqA",
        "outputId": "fa19b439-b8c7-4e79-ca2b-c15b978b0027"
      },
      "execution_count": null,
      "outputs": [
        {
          "output_type": "execute_result",
          "data": {
            "text/plain": [
              "str"
            ]
          },
          "metadata": {},
          "execution_count": 27
        }
      ]
    },
    {
      "cell_type": "markdown",
      "source": [
        "Booleano - Bool"
      ],
      "metadata": {
        "id": "LoExA8ROxO3v"
      }
    },
    {
      "cell_type": "code",
      "source": [
        "Var1 = True\n",
        "Var2 = False"
      ],
      "metadata": {
        "id": "iFIwipkiSd6h"
      },
      "execution_count": null,
      "outputs": []
    },
    {
      "cell_type": "code",
      "source": [
        "type(Var1)"
      ],
      "metadata": {
        "colab": {
          "base_uri": "https://localhost:8080/"
        },
        "id": "Dr0OiciDSnOS",
        "outputId": "2aed266c-b6cb-48bf-fef1-3fe3bca9bc52"
      },
      "execution_count": null,
      "outputs": [
        {
          "output_type": "execute_result",
          "data": {
            "text/plain": [
              "bool"
            ]
          },
          "metadata": {},
          "execution_count": 29
        }
      ]
    },
    {
      "cell_type": "markdown",
      "source": [
        "# Print novamente"
      ],
      "metadata": {
        "id": "6elVkznMSwds"
      }
    },
    {
      "cell_type": "code",
      "source": [
        "print(str(num_1), Time)"
      ],
      "metadata": {
        "colab": {
          "base_uri": "https://localhost:8080/"
        },
        "id": "eDcS8bPwSz55",
        "outputId": "c8a5cfda-cb3a-4b0b-af20-40e341023abe"
      },
      "execution_count": null,
      "outputs": [
        {
          "output_type": "stream",
          "name": "stdout",
          "text": [
            "7 Flamengo\n"
          ]
        }
      ]
    },
    {
      "cell_type": "code",
      "source": [
        "type(num_1)"
      ],
      "metadata": {
        "colab": {
          "base_uri": "https://localhost:8080/"
        },
        "id": "-cF6O0nZVkaZ",
        "outputId": "4aa1c42f-b048-4fa2-f03e-be27a4c583a9"
      },
      "execution_count": null,
      "outputs": [
        {
          "output_type": "execute_result",
          "data": {
            "text/plain": [
              "float"
            ]
          },
          "metadata": {},
          "execution_count": 45
        }
      ]
    },
    {
      "cell_type": "code",
      "source": [
        "float(num_1)"
      ],
      "metadata": {
        "colab": {
          "base_uri": "https://localhost:8080/"
        },
        "id": "uix1I5udVnKp",
        "outputId": "a26359d6-35fb-4147-84e7-4c7565d0c450"
      },
      "execution_count": null,
      "outputs": [
        {
          "output_type": "execute_result",
          "data": {
            "text/plain": [
              "7.0"
            ]
          },
          "metadata": {},
          "execution_count": 43
        }
      ]
    },
    {
      "cell_type": "code",
      "source": [
        "num_1 = float(num_1)"
      ],
      "metadata": {
        "id": "zFbhCOA6VyKr"
      },
      "execution_count": null,
      "outputs": []
    }
  ]
}