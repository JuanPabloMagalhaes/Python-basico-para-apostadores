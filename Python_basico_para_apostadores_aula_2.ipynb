{
  "nbformat": 4,
  "nbformat_minor": 0,
  "metadata": {
    "colab": {
      "provenance": [],
      "authorship_tag": "ABX9TyODyeDOB/gUIHtKDfbCvmrR",
      "include_colab_link": true
    },
    "kernelspec": {
      "name": "python3",
      "display_name": "Python 3"
    },
    "language_info": {
      "name": "python"
    }
  },
  "cells": [
    {
      "cell_type": "markdown",
      "metadata": {
        "id": "view-in-github",
        "colab_type": "text"
      },
      "source": [
        "<a href=\"https://colab.research.google.com/github/JuanPabloMagalhaes/Python-basico-para-apostadores/blob/main/Python_basico_para_apostadores_aula_2.ipynb\" target=\"_parent\"><img src=\"https://colab.research.google.com/assets/colab-badge.svg\" alt=\"Open In Colab\"/></a>"
      ]
    },
    {
      "cell_type": "markdown",
      "source": [
        "# Lista - list"
      ],
      "metadata": {
        "id": "Rh5kSSSycIQJ"
      }
    },
    {
      "cell_type": "code",
      "execution_count": 1,
      "metadata": {
        "id": "eKqp-Guwa82t"
      },
      "outputs": [],
      "source": [
        "Lista = ['Flamengo', 4, 'Atletico Mineiro', 2, 'Over 1.5', 'Odd', 1.70]"
      ]
    },
    {
      "cell_type": "code",
      "source": [
        "print(Lista)"
      ],
      "metadata": {
        "colab": {
          "base_uri": "https://localhost:8080/"
        },
        "id": "DRu_j4rCdhc1",
        "outputId": "9b4576f5-27eb-4295-970f-4ad66fe4a96d"
      },
      "execution_count": 3,
      "outputs": [
        {
          "output_type": "stream",
          "name": "stdout",
          "text": [
            "['Flamengo', 4, 'Atletico Mineiro', 2, 'Over 1.5', 'Odd', 1.7]\n"
          ]
        }
      ]
    },
    {
      "cell_type": "code",
      "source": [
        "type(Lista)"
      ],
      "metadata": {
        "colab": {
          "base_uri": "https://localhost:8080/"
        },
        "id": "4IcaZZVJdnAG",
        "outputId": "90c5f3c6-8127-4b7d-f6a4-49f28c233d17"
      },
      "execution_count": 4,
      "outputs": [
        {
          "output_type": "execute_result",
          "data": {
            "text/plain": [
              "list"
            ]
          },
          "metadata": {},
          "execution_count": 4
        }
      ]
    },
    {
      "cell_type": "markdown",
      "source": [
        "# Tupla - tuple\n"
      ],
      "metadata": {
        "id": "47va--GFdrug"
      }
    },
    {
      "cell_type": "code",
      "source": [
        "tupla = ('Flamengo', 4, 'Atlético Mineiro', 2, 'over 1.5', 'odd', 1.70)"
      ],
      "metadata": {
        "id": "_mgTfJLae0IA"
      },
      "execution_count": 6,
      "outputs": []
    },
    {
      "cell_type": "code",
      "source": [
        "print(tupla)"
      ],
      "metadata": {
        "colab": {
          "base_uri": "https://localhost:8080/"
        },
        "id": "R8HnW_jDfJ-I",
        "outputId": "b0bcc59b-7a04-4e6a-eabf-548e1a0dab75"
      },
      "execution_count": 7,
      "outputs": [
        {
          "output_type": "stream",
          "name": "stdout",
          "text": [
            "('Flamengo', 4, 'Atlético Mineiro', 2, 'over 1.5', 'odd', 1.7)\n"
          ]
        }
      ]
    },
    {
      "cell_type": "code",
      "source": [
        "type(tupla)"
      ],
      "metadata": {
        "colab": {
          "base_uri": "https://localhost:8080/"
        },
        "id": "DVBeljYyfMz5",
        "outputId": "4b48230a-545d-4673-a109-a589aafda198"
      },
      "execution_count": 8,
      "outputs": [
        {
          "output_type": "execute_result",
          "data": {
            "text/plain": [
              "tuple"
            ]
          },
          "metadata": {},
          "execution_count": 8
        }
      ]
    },
    {
      "cell_type": "markdown",
      "source": [
        "#  Conjunto - set"
      ],
      "metadata": {
        "id": "xRPPff6gfUx-"
      }
    },
    {
      "cell_type": "code",
      "source": [
        "conjunto = {'Flamengo', 4, 'Atlético Mineiro', 2, 'over 1.5', 'odd', 1.70, True, False}"
      ],
      "metadata": {
        "id": "2Wv0yvMtfaSp"
      },
      "execution_count": 10,
      "outputs": []
    },
    {
      "cell_type": "code",
      "source": [
        "type(conjunto)"
      ],
      "metadata": {
        "colab": {
          "base_uri": "https://localhost:8080/"
        },
        "id": "rz2BME1ng0JG",
        "outputId": "a92f0d19-1222-4647-c578-2c2fd46caf24"
      },
      "execution_count": 11,
      "outputs": [
        {
          "output_type": "execute_result",
          "data": {
            "text/plain": [
              "set"
            ]
          },
          "metadata": {},
          "execution_count": 11
        }
      ]
    },
    {
      "cell_type": "markdown",
      "source": [
        "# Dicionários - dict\n"
      ],
      "metadata": {
        "id": "uuTyrHZphT6K"
      }
    },
    {
      "cell_type": "code",
      "source": [
        "dicionario = {'Mandante' : 'Flamengo',\n",
        "              'Visitante' : 'Vasco',\n",
        "              'Gols_Home' : 0,\n",
        "              'Gols_Away' : 0,\n",
        "              'Odds_Home' : 4,\n",
        "              'Odds_Away' : 2,\n",
        "              'BTTS' : False}"
      ],
      "metadata": {
        "id": "i6tmO8uzha6p"
      },
      "execution_count": 12,
      "outputs": []
    },
    {
      "cell_type": "code",
      "source": [
        "print(dicionario)"
      ],
      "metadata": {
        "colab": {
          "base_uri": "https://localhost:8080/"
        },
        "id": "p-PkuoqVjxI4",
        "outputId": "678943de-36e3-485a-eabe-d0afc0a8fb15"
      },
      "execution_count": 13,
      "outputs": [
        {
          "output_type": "stream",
          "name": "stdout",
          "text": [
            "{'Mandante': 'Flamengo', 'Visitante': 'Vasco', 'Gols_Home': 0, 'Gols_Away': 0, 'Odds_Home': 4, 'Odds_Away': 2, 'BTTS': False}\n"
          ]
        }
      ]
    },
    {
      "cell_type": "code",
      "source": [
        "type(dicionario)"
      ],
      "metadata": {
        "colab": {
          "base_uri": "https://localhost:8080/"
        },
        "id": "a3ZC8klvj1qb",
        "outputId": "0c89333e-d014-4da0-b175-ccb30896a972"
      },
      "execution_count": 17,
      "outputs": [
        {
          "output_type": "execute_result",
          "data": {
            "text/plain": [
              "dict"
            ]
          },
          "metadata": {},
          "execution_count": 17
        }
      ]
    },
    {
      "cell_type": "markdown",
      "source": [
        "# Entrada de dados - input()"
      ],
      "metadata": {
        "id": "uIQ3PI5mkB_Q"
      }
    },
    {
      "cell_type": "code",
      "source": [
        "time = input()"
      ],
      "metadata": {
        "colab": {
          "base_uri": "https://localhost:8080/"
        },
        "id": "EgZjxtV6kJ2D",
        "outputId": "855a4ac8-81c0-4e4f-adff-b2daa6fd0d38"
      },
      "execution_count": 16,
      "outputs": [
        {
          "name": "stdout",
          "output_type": "stream",
          "text": [
            "Flamengo\n"
          ]
        }
      ]
    },
    {
      "cell_type": "code",
      "source": [
        "print(time)"
      ],
      "metadata": {
        "colab": {
          "base_uri": "https://localhost:8080/"
        },
        "id": "5MJMdcgXkxGC",
        "outputId": "a85a9a40-59fe-4e10-ac88-563a69d4dd59"
      },
      "execution_count": 18,
      "outputs": [
        {
          "output_type": "stream",
          "name": "stdout",
          "text": [
            "Flamengo\n"
          ]
        }
      ]
    },
    {
      "cell_type": "code",
      "source": [
        "odd = input('Digite a odd do time vencedor: ')"
      ],
      "metadata": {
        "colab": {
          "base_uri": "https://localhost:8080/"
        },
        "id": "mxkTlgnBl2QI",
        "outputId": "cc8555a6-9a54-4d76-b096-678a7d4b3bb6"
      },
      "execution_count": 21,
      "outputs": [
        {
          "name": "stdout",
          "output_type": "stream",
          "text": [
            "Digite a odd do time vencedor: 2\n"
          ]
        }
      ]
    },
    {
      "cell_type": "code",
      "source": [
        "print(odd)"
      ],
      "metadata": {
        "colab": {
          "base_uri": "https://localhost:8080/"
        },
        "id": "ZMWdWQNwmEu9",
        "outputId": "4747ea2e-1c10-47b8-e284-1f4c8f495cf0"
      },
      "execution_count": 22,
      "outputs": [
        {
          "output_type": "stream",
          "name": "stdout",
          "text": [
            "2\n"
          ]
        }
      ]
    },
    {
      "cell_type": "code",
      "source": [
        "odd = int(input('digite a odd do time vencedor: '))"
      ],
      "metadata": {
        "colab": {
          "base_uri": "https://localhost:8080/"
        },
        "id": "YtRYpbBemvpJ",
        "outputId": "64b1c89f-9488-4102-d75b-09a1b79c030d"
      },
      "execution_count": 23,
      "outputs": [
        {
          "name": "stdout",
          "output_type": "stream",
          "text": [
            "digite a odd do time vencedor: 2\n"
          ]
        }
      ]
    },
    {
      "cell_type": "code",
      "source": [
        "print(odd)"
      ],
      "metadata": {
        "colab": {
          "base_uri": "https://localhost:8080/"
        },
        "id": "ayLJviB8m58L",
        "outputId": "b36f6a01-2b4c-4734-8aa8-6cb9cef1411f"
      },
      "execution_count": 24,
      "outputs": [
        {
          "output_type": "stream",
          "name": "stdout",
          "text": [
            "2\n"
          ]
        }
      ]
    },
    {
      "cell_type": "code",
      "source": [
        "type(odd)"
      ],
      "metadata": {
        "colab": {
          "base_uri": "https://localhost:8080/"
        },
        "id": "awtdJoREm9QM",
        "outputId": "9dabe142-2bdc-4ff1-add6-283927488c96"
      },
      "execution_count": 25,
      "outputs": [
        {
          "output_type": "execute_result",
          "data": {
            "text/plain": [
              "int"
            ]
          },
          "metadata": {},
          "execution_count": 25
        }
      ]
    },
    {
      "cell_type": "markdown",
      "source": [
        "# Operações Matemáticas"
      ],
      "metadata": {
        "id": "EwbwQpV7nPYV"
      }
    },
    {
      "cell_type": "markdown",
      "source": [
        "ADIÇÃO (+)"
      ],
      "metadata": {
        "id": "KrPiDk7fnuzY"
      }
    },
    {
      "cell_type": "code",
      "source": [
        "Odd_H  = float(input('Digite a odd do time mandante: '))\n",
        "Odd_A = float(input('Digite a odd do time visitante:'))\n",
        "Odd_D = float(input('Digite a odd do empate: '))\n",
        "Gol_H = int(input('Digite quantos gols o mandante marcou'))\n",
        "Gol_A = int(input('Digite quantos gols o time visitante marcou: '))\n"
      ],
      "metadata": {
        "colab": {
          "base_uri": "https://localhost:8080/"
        },
        "id": "MEDNXBdBn3Q9",
        "outputId": "97571ce7-a128-47e6-df37-b32c4bc796ad"
      },
      "execution_count": 26,
      "outputs": [
        {
          "name": "stdout",
          "output_type": "stream",
          "text": [
            "Digite a odd do time mandante: 1.8\n",
            "Digite a odd do time visitante:3.6\n",
            "Digite a odd do empate: 3\n",
            "Digite quantos gols o mandante marcou2\n",
            "Digite quantos gols o time visitante marcou: 1\n"
          ]
        }
      ]
    },
    {
      "cell_type": "code",
      "source": [
        "Gols_Total = Gol_H + Gol_A"
      ],
      "metadata": {
        "id": "R-lPKpMdo-nC"
      },
      "execution_count": 27,
      "outputs": []
    },
    {
      "cell_type": "code",
      "source": [
        "print(Gols_Total)"
      ],
      "metadata": {
        "colab": {
          "base_uri": "https://localhost:8080/"
        },
        "id": "kMYBl4qQpHle",
        "outputId": "902648e5-862f-4d4e-e3b0-bb46cf64fb90"
      },
      "execution_count": 28,
      "outputs": [
        {
          "output_type": "stream",
          "name": "stdout",
          "text": [
            "3\n"
          ]
        }
      ]
    },
    {
      "cell_type": "markdown",
      "source": [
        "SUBTRAÇÃO(-)"
      ],
      "metadata": {
        "id": "giaf_iCOp6GM"
      }
    },
    {
      "cell_type": "code",
      "source": [
        "Saldo_Gols_H = Gol_H - Gol_A"
      ],
      "metadata": {
        "id": "a5lZF2Dwp_VD"
      },
      "execution_count": 29,
      "outputs": []
    },
    {
      "cell_type": "code",
      "source": [
        "print(Saldo_Gols_H)"
      ],
      "metadata": {
        "colab": {
          "base_uri": "https://localhost:8080/"
        },
        "id": "fRWnlcXzqHjO",
        "outputId": "25318547-bb8a-4791-eb86-1dc26da2ca1a"
      },
      "execution_count": 30,
      "outputs": [
        {
          "output_type": "stream",
          "name": "stdout",
          "text": [
            "1\n"
          ]
        }
      ]
    },
    {
      "cell_type": "markdown",
      "source": [
        "MULTIPLICAÇÃO (*)"
      ],
      "metadata": {
        "id": "bv5aGjjHqfei"
      }
    },
    {
      "cell_type": "code",
      "source": [
        "Variavel = Odd_H * Gol_H"
      ],
      "metadata": {
        "id": "dDtpbTwIqjqa"
      },
      "execution_count": 31,
      "outputs": []
    },
    {
      "cell_type": "code",
      "source": [
        "print(Variavel)"
      ],
      "metadata": {
        "colab": {
          "base_uri": "https://localhost:8080/"
        },
        "id": "K67UtYqfqyaB",
        "outputId": "4a553eec-430b-44a5-9e3d-5c5a109e199b"
      },
      "execution_count": 32,
      "outputs": [
        {
          "output_type": "stream",
          "name": "stdout",
          "text": [
            "3.6\n"
          ]
        }
      ]
    },
    {
      "cell_type": "markdown",
      "source": [
        "Divisão(/)"
      ],
      "metadata": {
        "id": "LGcTPN0xrC8z"
      }
    },
    {
      "cell_type": "code",
      "source": [
        "prob = 100/Odd_H"
      ],
      "metadata": {
        "id": "py35I_GIrHvi"
      },
      "execution_count": 34,
      "outputs": []
    },
    {
      "cell_type": "code",
      "source": [
        "print(prob)"
      ],
      "metadata": {
        "colab": {
          "base_uri": "https://localhost:8080/"
        },
        "id": "I0dhk6eErMv9",
        "outputId": "d340d953-4c7c-46a9-bf31-e8403f34ad75"
      },
      "execution_count": 35,
      "outputs": [
        {
          "output_type": "stream",
          "name": "stdout",
          "text": [
            "55.55555555555556\n"
          ]
        }
      ]
    },
    {
      "cell_type": "markdown",
      "source": [
        "EXPONENCIAÇÂO(**)"
      ],
      "metadata": {
        "id": "jBBuCoVwrTsO"
      }
    },
    {
      "cell_type": "code",
      "source": [
        " VAR = Odd_H **2"
      ],
      "metadata": {
        "id": "autDgEp9rdKy"
      },
      "execution_count": 36,
      "outputs": []
    },
    {
      "cell_type": "code",
      "source": [
        "print(VAR)"
      ],
      "metadata": {
        "colab": {
          "base_uri": "https://localhost:8080/"
        },
        "id": "KnUwZ6UHr15l",
        "outputId": "233d90ac-4e11-43e8-99aa-5c6f2802cad5"
      },
      "execution_count": 37,
      "outputs": [
        {
          "output_type": "stream",
          "name": "stdout",
          "text": [
            "3.24\n"
          ]
        }
      ]
    },
    {
      "cell_type": "markdown",
      "source": [
        "# Ordem de Avaliação dos Operadores"
      ],
      "metadata": {
        "id": "d8xSdVLUsOW_"
      }
    },
    {
      "cell_type": "markdown",
      "source": [
        "Exponenciação\n",
        "Multiplicação / Divisão\n",
        "Adição / Subtração "
      ],
      "metadata": {
        "id": "X8iYZXuUsUhS"
      }
    },
    {
      "cell_type": "code",
      "source": [
        "formula = Odd_H+Odd_A*Gol_H**2-Gol_A/Odd_H"
      ],
      "metadata": {
        "id": "VaP65d_Ds52a"
      },
      "execution_count": 38,
      "outputs": []
    },
    {
      "cell_type": "code",
      "source": [
        "print(formula)"
      ],
      "metadata": {
        "colab": {
          "base_uri": "https://localhost:8080/"
        },
        "id": "NkA0R92ztMuf",
        "outputId": "39cc0abe-f019-4a51-bccc-22303c76fe8a"
      },
      "execution_count": 39,
      "outputs": [
        {
          "output_type": "stream",
          "name": "stdout",
          "text": [
            "15.644444444444444\n"
          ]
        }
      ]
    },
    {
      "cell_type": "markdown",
      "source": [
        "# Operações Relacionais "
      ],
      "metadata": {
        "id": "cJQGuzBNtZ9G"
      }
    },
    {
      "cell_type": "markdown",
      "source": [
        "Igual (==)\n",
        "Diferente (!=)\n",
        "Maior que (>)\n",
        "Menor que (<)\n",
        "Maior ou Igual (>=)\n",
        "menor ou igual (<=)\n"
      ],
      "metadata": {
        "id": "p0gVpxzNtfGo"
      }
    }
  ]
}